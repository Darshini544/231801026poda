{
  "nbformat": 4,
  "nbformat_minor": 0,
  "metadata": {
    "colab": {
      "provenance": []
    },
    "kernelspec": {
      "name": "python3",
      "display_name": "Python 3"
    },
    "language_info": {
      "name": "python"
    }
  },
  "cells": [
    {
      "cell_type": "code",
      "execution_count": null,
      "metadata": {
        "id": "tFFWl5IxlhYn"
      },
      "outputs": [],
      "source": [
        "import pandas as pd\n",
        "\n",
        "df = pd.read_csv('Advertising.csv')\n",
        "print(df.head())"
      ]
    },
    {
      "cell_type": "code",
      "source": [
        "print(df.info())\n",
        "\n",
        "features = ['TV', 'Radio', 'Newspaper']\n",
        "target = 'Sales'\n",
        "\n",
        "import seaborn as sns\n",
        "import matplotlib.pyplot as plt\n",
        "\n",
        "sns.pairplot(df[features + [target]])\n",
        "plt.show()"
      ],
      "metadata": {
        "id": "0qiyHVORlvjR"
      },
      "execution_count": null,
      "outputs": []
    },
    {
      "cell_type": "code",
      "source": [
        "from sklearn.model_selection import train_test_split\n",
        "\n",
        "X = df[features]\n",
        "y = df[target]\n",
        "\n",
        "X_train, X_test, y_train, y_test = train_test_split(X, y, test_size=0.2, random_state=42)"
      ],
      "metadata": {
        "id": "ay0bXYDUlvkp"
      },
      "execution_count": null,
      "outputs": []
    },
    {
      "cell_type": "code",
      "source": [
        "from sklearn.linear_model import LinearRegression\n",
        "\n",
        "lr = LinearRegression()\n",
        "lr.fit(X_train, y_train)\n",
        "\n",
        "y_pred_lr = lr.predict(X_test)"
      ],
      "metadata": {
        "id": "To0uoceVlv5S"
      },
      "execution_count": null,
      "outputs": []
    },
    {
      "cell_type": "code",
      "source": [
        "from sklearn.preprocessing import PolynomialFeatures\n",
        "from sklearn.pipeline import make_pipeline\n",
        "\n",
        "poly_pipeline = make_pipeline(PolynomialFeatures(degree=2), LinearRegression())\n",
        "poly_pipeline.fit(X_train, y_train)\n",
        "\n",
        "y_pred_poly = poly_pipeline.predict(X_test)"
      ],
      "metadata": {
        "id": "XXgLwAC6lv8b"
      },
      "execution_count": null,
      "outputs": []
    },
    {
      "cell_type": "code",
      "source": [
        "from sklearn.svm import SVR\n",
        "from sklearn.preprocessing import StandardScaler\n",
        "from sklearn.pipeline import Pipeline\n",
        "\n",
        "svr_pipeline = Pipeline([\n",
        "    ('scaler', StandardScaler()),\n",
        "    ('svr', SVR(kernel='rbf'))\n",
        "])\n",
        "\n",
        "svr_pipeline.fit(X_train, y_train)\n",
        "y_pred_svr = svr_pipeline.predict(X_test)"
      ],
      "metadata": {
        "id": "qghlvcRClv_u"
      },
      "execution_count": null,
      "outputs": []
    },
    {
      "cell_type": "code",
      "source": [
        "from sklearn.metrics import mean_absolute_error, mean_squared_error\n",
        "import numpy as np\n",
        "\n",
        "def evaluate(y_true, y_pred):\n",
        "    return {\n",
        "        'MAE': mean_absolute_error(y_true, y_pred),\n",
        "        'MSE': mean_squared_error(y_true, y_pred),\n",
        "        'RMSE': np.sqrt(mean_squared_error(y_true, y_pred))\n",
        "    }\n",
        "\n",
        "results = {\n",
        "    'Linear': evaluate(y_test, y_pred_lr),\n",
        "    'Polynomial': evaluate(y_test, y_pred_poly),\n",
        "    'SVR': evaluate(y_test, y_pred_svr)\n",
        "}\n",
        "\n",
        "metrics = pd.DataFrame(results).T\n",
        "metrics.plot(kind='bar')\n",
        "plt.title(\"Model Comparison\")\n",
        "plt.ylabel(\"Error\")\n",
        "plt.xticks(rotation=0)\n",
        "plt.show()"
      ],
      "metadata": {
        "id": "UxII4h1mlwBz"
      },
      "execution_count": null,
      "outputs": []
    },
    {
      "cell_type": "code",
      "source": [
        "from sklearn.cluster import KMeans\n",
        "\n",
        "kmeans = KMeans(n_clusters=3, random_state=42)\n",
        "df['Cluster'] = kmeans.fit_predict(df[features])"
      ],
      "metadata": {
        "id": "FArTgqknmOxP"
      },
      "execution_count": null,
      "outputs": []
    },
    {
      "cell_type": "code",
      "source": [
        "sns.scatterplot(data=df, x='TV', y='Sales', hue='Cluster', palette='viridis')\n",
        "plt.title(\"K-Means Clustering: TV vs Sales\")\n",
        "plt.show()"
      ],
      "metadata": {
        "id": "iLyZFhtpmPDi"
      },
      "execution_count": null,
      "outputs": []
    }
  ]
}