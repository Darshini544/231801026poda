{
 "cells": [
  {
   "cell_type": "code",
   "execution_count": 12,
   "id": "5f140909-eb08-40d5-ba0b-1cb983c2cd39",
   "metadata": {},
   "outputs": [],
   "source": [
    "import pandas as pd\n",
    "df = pd.read_csv(\"tested.csv\")\n"
   ]
  },
  {
   "cell_type": "code",
   "execution_count": 13,
   "id": "8be09a4a-80ec-4468-9a20-480996663767",
   "metadata": {},
   "outputs": [
    {
     "name": "stdout",
     "output_type": "stream",
     "text": [
      "(418, 12)\n"
     ]
    }
   ],
   "source": [
    "print(df.shape)\n"
   ]
  },
  {
   "cell_type": "code",
   "execution_count": 14,
   "id": "a3063f46-beaf-4ad2-8da0-34cef68ad891",
   "metadata": {},
   "outputs": [
    {
     "name": "stdout",
     "output_type": "stream",
     "text": [
      "<class 'pandas.core.frame.DataFrame'>\n",
      "RangeIndex: 418 entries, 0 to 417\n",
      "Data columns (total 12 columns):\n",
      " #   Column       Non-Null Count  Dtype  \n",
      "---  ------       --------------  -----  \n",
      " 0   PassengerId  418 non-null    int64  \n",
      " 1   Survived     418 non-null    int64  \n",
      " 2   Pclass       418 non-null    int64  \n",
      " 3   Name         418 non-null    object \n",
      " 4   Sex          418 non-null    object \n",
      " 5   Age          332 non-null    float64\n",
      " 6   SibSp        418 non-null    int64  \n",
      " 7   Parch        418 non-null    int64  \n",
      " 8   Ticket       418 non-null    object \n",
      " 9   Fare         417 non-null    float64\n",
      " 10  Cabin        91 non-null     object \n",
      " 11  Embarked     418 non-null    object \n",
      "dtypes: float64(2), int64(5), object(5)\n",
      "memory usage: 39.3+ KB\n",
      "None\n"
     ]
    }
   ],
   "source": [
    "print(df.info())\n"
   ]
  },
  {
   "cell_type": "code",
   "execution_count": 15,
   "id": "d4385d75-8c05-4e5f-a117-5816f63547e4",
   "metadata": {},
   "outputs": [
    {
     "name": "stdout",
     "output_type": "stream",
     "text": [
      "       PassengerId    Survived      Pclass         Age       SibSp  \\\n",
      "count   418.000000  418.000000  418.000000  332.000000  418.000000   \n",
      "mean   1100.500000    0.363636    2.265550   30.272590    0.447368   \n",
      "std     120.810458    0.481622    0.841838   14.181209    0.896760   \n",
      "min     892.000000    0.000000    1.000000    0.170000    0.000000   \n",
      "25%     996.250000    0.000000    1.000000   21.000000    0.000000   \n",
      "50%    1100.500000    0.000000    3.000000   27.000000    0.000000   \n",
      "75%    1204.750000    1.000000    3.000000   39.000000    1.000000   \n",
      "max    1309.000000    1.000000    3.000000   76.000000    8.000000   \n",
      "\n",
      "            Parch        Fare  \n",
      "count  418.000000  417.000000  \n",
      "mean     0.392344   35.627188  \n",
      "std      0.981429   55.907576  \n",
      "min      0.000000    0.000000  \n",
      "25%      0.000000    7.895800  \n",
      "50%      0.000000   14.454200  \n",
      "75%      0.000000   31.500000  \n",
      "max      9.000000  512.329200  \n"
     ]
    }
   ],
   "source": [
    "print(df.describe())\n"
   ]
  },
  {
   "cell_type": "code",
   "execution_count": 16,
   "id": "dc4464be-a624-4094-9b4f-497447f5b69d",
   "metadata": {},
   "outputs": [],
   "source": [
    "from sklearn.impute import SimpleImputer\n",
    "imputer = SimpleImputer(strategy='mean')\n",
    "df['Age'] = imputer.fit_transform(df[['Age']])\n"
   ]
  },
  {
   "cell_type": "code",
   "execution_count": 17,
   "id": "6d174a87-7dfe-495e-b242-c72dd8a8067d",
   "metadata": {},
   "outputs": [],
   "source": [
    "df['Embarked'] = df['Embarked'].fillna(df['Embarked'].mode()[0])\n",
    "\n"
   ]
  },
  {
   "cell_type": "code",
   "execution_count": 18,
   "id": "ad2e9213-b590-4bf4-9555-8717860a7c86",
   "metadata": {},
   "outputs": [
    {
     "data": {
      "image/png": "[encoded data removed]",
      "text/plain": [
       "<Figure size 640x480 with 1 Axes>"
      ]
     },
     "metadata": {},
     "output_type": "display_data"
    }
   ],
   "source": [
    "import seaborn as sns\n",
    "import matplotlib.pyplot as plt\n",
    "\n",
    "sns.countplot(x='Pclass', data=df)\n",
    "plt.title('Passenger Class Count')\n",
    "plt.show()\n"
   ]
  },
  {
   "cell_type": "code",
   "execution_count": 20,
   "id": "f5abbd73-58a9-40f1-a320-f7bda1efa0cb",
   "metadata": {},
   "outputs": [
    {
     "name": "stdout",
     "output_type": "stream",
     "text": [
      "Index(['PassengerId', 'Survived', 'Pclass', 'Name', 'Sex', 'Age', 'SibSp',\n",
      "       'Parch', 'Ticket', 'Fare', 'Cabin', 'Embarked'],\n",
      "      dtype='object')\n"
     ]
    }
   ],
   "source": [
    "print(df.columns)"
   ]
  },
  {
   "cell_type": "code",
   "execution_count": 22,
   "id": "341c9f42-bf91-4a05-ad80-fd125fb88d3e",
   "metadata": {},
   "outputs": [
    {
     "name": "stdout",
     "output_type": "stream",
     "text": [
      "1                     Wilkes, Mrs. James (Ellen Needs)\n",
      "4         Hirvonen, Mrs. Alexander (Helga E Lindqvist)\n",
      "6                                 Connolly, Miss. Kate\n",
      "8            Abrahim, Mrs. Joseph (Sophie Halaut Easu)\n",
      "12       Snyder, Mrs. John Pillsbury (Nelle Stevenson)\n",
      "                            ...                       \n",
      "409                          Peacock, Miss. Treasteall\n",
      "410                             Naughton, Miss. Hannah\n",
      "411    Minahan, Mrs. William Edward (Lillian E Thorpe)\n",
      "412                     Henriksson, Miss. Jenny Lovisa\n",
      "414                       Oliva y Ocana, Dona. Fermina\n",
      "Name: Name, Length: 152, dtype: object\n"
     ]
    }
   ],
   "source": [
    "female_survivors = df[(df['Sex'] == 'female') & (df['Survived'] == 1)]\n",
    "print(female_survivors['Name'])\n"
   ]
  },
  {
   "cell_type": "code",
   "execution_count": 23,
   "id": "0889b6d5-1e15-4e11-a2e8-e0662378628d",
   "metadata": {},
   "outputs": [
    {
     "name": "stdout",
     "output_type": "stream",
     "text": [
      "     PassengerId  Survived  Pclass                                       Name  \\\n",
      "5            897         0       3                 Svensson, Mr. Johan Cervin   \n",
      "21           913         0       3                  Olsen, Master. Artur Karl   \n",
      "55           947         0       3                       Rice, Master. Albert   \n",
      "60           952         0       3                            Dika, Mr. Mirko   \n",
      "80           972         0       3                       Boulos, Master. Akar   \n",
      "104          996         1       3  Thomas, Mrs. Alexander (Thamine Thelma\")\"   \n",
      "117         1009         1       3            Sandstrom, Miss. Beatrice Irene   \n",
      "125         1017         1       3                   Cribb, Miss. Laura Alice   \n",
      "140         1032         1       3                Goodwin, Miss. Jessie Allis   \n",
      "154         1046         0       3               Asplund, Master. Filip Oscar   \n",
      "161         1053         0       3             Touma, Master. Georges Youssef   \n",
      "187         1079         0       3                         Davies, Mr. Joseph   \n",
      "192         1084         0       3          van Billiard, Master. Walter John   \n",
      "201         1093         0       3    Danbom, Master. Gilbert Sigvard Emanuel   \n",
      "263         1155         1       3               Klasen, Miss. Gertrud Emilia   \n",
      "269         1161         0       3                          Pokrnic, Mr. Mate   \n",
      "281         1173         0       3             Peacock, Master. Alfred Edward   \n",
      "283         1175         1       3                 Touma, Miss. Maria Youssef   \n",
      "284         1176         1       3                Rosblom, Miss. Salli Helena   \n",
      "307         1199         0       3                  Aks, Master. Philip Frank   \n",
      "315         1207         1       3                       Hagardon, Miss. Kate   \n",
      "345         1237         1       3                Abelseth, Miss. Karen Marie   \n",
      "354         1246         1       3    Dean, Miss. Elizabeth Gladys Millvina\"\"   \n",
      "360         1252         0       3                Sage, Master. William Henry   \n",
      "379         1271         0       3                Asplund, Master. Carl Edgar   \n",
      "389         1281         0       3                Palsson, Master. Paul Folke   \n",
      "392         1284         0       3              Abbott, Master. Eugene Joseph   \n",
      "409         1301         1       3                  Peacock, Miss. Treasteall   \n",
      "\n",
      "        Sex    Age  SibSp  Parch              Ticket     Fare Cabin Embarked  \n",
      "5      male  14.00      0      0                7538   9.2250   NaN        S  \n",
      "21     male   9.00      0      1             C 17368   3.1708   NaN        S  \n",
      "55     male  10.00      4      1              382652  29.1250   NaN        Q  \n",
      "60     male  17.00      0      0              349232   7.8958   NaN        S  \n",
      "80     male   6.00      1      1                2678  15.2458   NaN        C  \n",
      "104  female  16.00      1      1                2625   8.5167   NaN        C  \n",
      "117  female   1.00      1      1             PP 9549  16.7000    G6        S  \n",
      "125  female  17.00      0      1              371362  16.1000   NaN        S  \n",
      "140  female  10.00      5      2             CA 2144  46.9000   NaN        S  \n",
      "154    male  13.00      4      2              347077  31.3875   NaN        S  \n",
      "161    male   7.00      1      1                2650  15.2458   NaN        C  \n",
      "187    male  17.00      2      0           A/4 48873   8.0500   NaN        S  \n",
      "192    male  11.50      1      1            A/5. 851  14.5000   NaN        S  \n",
      "201    male   0.33      0      2              347080  14.4000   NaN        S  \n",
      "263  female   1.00      1      1              350405  12.1833   NaN        S  \n",
      "269    male  17.00      0      0              315095   8.6625   NaN        S  \n",
      "281    male   0.75      1      1  SOTON/O.Q. 3101315  13.7750   NaN        S  \n",
      "283  female   9.00      1      1                2650  15.2458   NaN        C  \n",
      "284  female   2.00      1      1              370129  20.2125   NaN        S  \n",
      "307    male   0.83      0      1              392091   9.3500   NaN        S  \n",
      "315  female  17.00      0      0         AQ/3. 30631   7.7333   NaN        Q  \n",
      "345  female  16.00      0      0              348125   7.6500   NaN        S  \n",
      "354  female   0.17      1      2           C.A. 2315  20.5750   NaN        S  \n",
      "360    male  14.50      8      2            CA. 2343  69.5500   NaN        S  \n",
      "379    male   5.00      4      2              347077  31.3875   NaN        S  \n",
      "389    male   6.00      3      1              349909  21.0750   NaN        S  \n",
      "392    male  13.00      0      2           C.A. 2673  20.2500   NaN        S  \n",
      "409  female   3.00      1      1  SOTON/O.Q. 3101315  13.7750   NaN        S  \n"
     ]
    }
   ],
   "source": [
    "third_class_kids = df[(df['Pclass'] == 3) & (df['Age'] < 18)]\n",
    "print(third_class_kids)\n"
   ]
  },
  {
   "cell_type": "code",
   "execution_count": 24,
   "id": "4781b553-d730-4dc8-8db0-c22583758661",
   "metadata": {},
   "outputs": [
    {
     "name": "stdout",
     "output_type": "stream",
     "text": [
      "     PassengerId  Survived  Pclass  \\\n",
      "11           903         0       1   \n",
      "14           906         1       1   \n",
      "20           912         0       1   \n",
      "24           916         1       1   \n",
      "28           920         0       1   \n",
      "44           936         1       1   \n",
      "46           938         0       1   \n",
      "48           940         1       1   \n",
      "67           959         0       1   \n",
      "69           961         1       1   \n",
      "77           969         1       1   \n",
      "81           973         0       1   \n",
      "82           974         0       1   \n",
      "96           988         1       1   \n",
      "100          992         1       1   \n",
      "114         1006         1       1   \n",
      "131         1023         0       1   \n",
      "142         1034         0       1   \n",
      "144         1036         0       1   \n",
      "158         1050         0       1   \n",
      "166         1058         0       1   \n",
      "177         1069         0       1   \n",
      "179         1071         1       1   \n",
      "202         1094         0       1   \n",
      "215         1107         0       1   \n",
      "217         1109         0       1   \n",
      "218         1110         1       1   \n",
      "224         1116         1       1   \n",
      "236         1128         0       1   \n",
      "239         1131         1       1   \n",
      "240         1132         1       1   \n",
      "242         1134         0       1   \n",
      "245         1137         0       1   \n",
      "270         1162         0       1   \n",
      "293         1185         0       1   \n",
      "305         1197         1       1   \n",
      "308         1200         0       1   \n",
      "314         1206         1       1   \n",
      "316         1208         0       1   \n",
      "327         1219         0       1   \n",
      "343         1235         1       1   \n",
      "350         1242         1       1   \n",
      "355         1247         0       1   \n",
      "356         1248         1       1   \n",
      "368         1260         1       1   \n",
      "372         1264         0       1   \n",
      "374         1266         1       1   \n",
      "375         1267         1       1   \n",
      "378         1270         0       1   \n",
      "391         1283         1       1   \n",
      "397         1289         1       1   \n",
      "404         1296         0       1   \n",
      "407         1299         0       1   \n",
      "\n",
      "                                                  Name     Sex   Age  SibSp  \\\n",
      "11                          Jones, Mr. Charles Cresson    male  46.0      0   \n",
      "14   Chaffee, Mrs. Herbert Fuller (Carrie Constance...  female  47.0      1   \n",
      "20                              Rothschild, Mr. Martin    male  55.0      1   \n",
      "24     Ryerson, Mrs. Arthur Larned (Emily Maria Borie)  female  48.0      1   \n",
      "28                             Brady, Mr. John Bertram    male  41.0      0   \n",
      "44    Kimball, Mrs. Edwin Nelson Jr (Gertrude Parsons)  female  45.0      1   \n",
      "46                            Chevre, Mr. Paul Romaine    male  45.0      0   \n",
      "48     Bucknell, Mrs. William Robert (Emma Eliza Ward)  female  60.0      0   \n",
      "67                      Moore, Mr. Clarence Bloomfield    male  47.0      0   \n",
      "69                 Fortune, Mrs. Mark (Mary McDougald)  female  60.0      1   \n",
      "77   Cornell, Mrs. Robert Clifford (Malvina Helen L...  female  55.0      2   \n",
      "81                                  Straus, Mr. Isidor    male  67.0      1   \n",
      "82                              Case, Mr. Howard Brown    male  49.0      0   \n",
      "96   Cavendish, Mrs. Tyrell William (Julia Florence...  female  76.0      1   \n",
      "100  Stengel, Mrs. Charles Emil Henry (Annie May Mo...  female  43.0      1   \n",
      "114             Straus, Mrs. Isidor (Rosalie Ida Blun)  female  63.0      1   \n",
      "131                          Gracie, Col. Archibald IV    male  53.0      0   \n",
      "142                         Ryerson, Mr. Arthur Larned    male  61.0      1   \n",
      "144  Lindeberg-Lind, Mr. Erik Gustaf (Mr Edward Lin...    male  42.0      0   \n",
      "158                           Borebank, Mr. John James    male  42.0      0   \n",
      "166                                 Brandeis, Mr. Emil    male  48.0      0   \n",
      "177                    Stengel, Mr. Charles Emil Henry    male  54.0      1   \n",
      "179  Compton, Mrs. Alexander Taylor (Mary Eliza Ing...  female  64.0      0   \n",
      "202                             Astor, Col. John Jacob    male  47.0      1   \n",
      "215                              Head, Mr. Christopher    male  42.0      0   \n",
      "217                           Wick, Mr. George Dennick    male  57.0      1   \n",
      "218       Widener, Mrs. George Dunton (Eleanor Elkins)  female  50.0      1   \n",
      "224   Candee, Mrs. Edward (Helen Churchill Hungerford)  female  53.0      0   \n",
      "236                           Warren, Mr. Frank Manley    male  64.0      1   \n",
      "239        Douglas, Mrs. Walter Donald (Mahala Dutton)  female  48.0      1   \n",
      "240          Lindstrom, Mrs. Carl Johan (Sigrid Posse)  female  55.0      0   \n",
      "242                       Spedden, Mr. Frederic Oakley    male  45.0      1   \n",
      "245                            Kenyon, Mr. Frederick R    male  41.0      1   \n",
      "270                       McCaffry, Mr. Thomas Francis    male  46.0      0   \n",
      "293                              Dodge, Dr. Washington    male  53.0      1   \n",
      "305  Crosby, Mrs. Edward Gifford (Catherine Elizabe...  female  64.0      1   \n",
      "308                         Hays, Mr. Charles Melville    male  55.0      1   \n",
      "314              White, Mrs. John Stuart (Ella Holmes)  female  55.0      0   \n",
      "316                      Spencer, Mr. William Augustus    male  57.0      1   \n",
      "327        Rosenshine, Mr. George (Mr George Thorne\")\"    male  46.0      0   \n",
      "343  Cardeza, Mrs. James Warburton Martinez (Charlo...  female  58.0      0   \n",
      "350       Greenfield, Mrs. Leo David (Blanche Strouse)  female  45.0      0   \n",
      "355                           Julian, Mr. Henry Forbes    male  50.0      0   \n",
      "356     Brown, Mrs. John Murray (Caroline Lane Lamson)  female  59.0      2   \n",
      "368            Gibson, Mrs. Leonard (Pauline C Boeson)  female  45.0      0   \n",
      "372                            Ismay, Mr. Joseph Bruce    male  49.0      0   \n",
      "374              Dodge, Mrs. Washington (Ruth Vidaver)  female  54.0      1   \n",
      "375                           Bowen, Miss. Grace Scott  female  45.0      0   \n",
      "378                        Hipkins, Mr. William Edward    male  55.0      0   \n",
      "391     Lines, Mrs. Ernest H (Elizabeth Lindsey James)  female  51.0      0   \n",
      "397  Frolicher-Stehli, Mrs. Maxmillian (Margaretha ...  female  48.0      1   \n",
      "404                       Frauenthal, Mr. Isaac Gerald    male  43.0      1   \n",
      "407                         Widener, Mr. George Dunton    male  50.0      1   \n",
      "\n",
      "     Parch       Ticket      Fare            Cabin Embarked  \n",
      "11       0          694   26.0000              NaN        S  \n",
      "14       0  W.E.P. 5734   61.1750              E31        S  \n",
      "20       0     PC 17603   59.4000              NaN        C  \n",
      "24       3     PC 17608  262.3750  B57 B59 B63 B66        C  \n",
      "28       0       113054   30.5000              A21        S  \n",
      "44       0        11753   52.5542              D19        S  \n",
      "46       0     PC 17594   29.7000               A9        C  \n",
      "48       0        11813   76.2917              D15        C  \n",
      "67       0       113796   42.4000              NaN        S  \n",
      "69       4        19950  263.0000      C23 C25 C27        S  \n",
      "77       0        11770   25.7000             C101        S  \n",
      "81       0     PC 17483  221.7792          C55 C57        S  \n",
      "82       0        19924   26.0000              NaN        S  \n",
      "96       0        19877   78.8500              C46        S  \n",
      "100      0        11778   55.4417             C116        C  \n",
      "114      0     PC 17483  221.7792          C55 C57        S  \n",
      "131      0       113780   28.5000              C51        C  \n",
      "142      3     PC 17608  262.3750  B57 B59 B63 B66        C  \n",
      "144      0        17475   26.5500              NaN        S  \n",
      "158      0       110489   26.5500              D22        S  \n",
      "166      0     PC 17591   50.4958              B10        C  \n",
      "177      0        11778   55.4417             C116        C  \n",
      "179      2     PC 17756   83.1583              E45        C  \n",
      "202      0     PC 17757  227.5250          C62 C64        C  \n",
      "215      0       113038   42.5000              B11        S  \n",
      "217      1        36928  164.8667              NaN        S  \n",
      "218      1       113503  211.5000              C80        C  \n",
      "224      0     PC 17606   27.4458              NaN        C  \n",
      "236      0       110813   75.2500              D37        C  \n",
      "239      0     PC 17761  106.4250              C86        C  \n",
      "240      0       112377   27.7208              NaN        C  \n",
      "242      1        16966  134.5000              E34        C  \n",
      "245      0        17464   51.8625              D21        S  \n",
      "270      0        13050   75.2417               C6        C  \n",
      "293      1        33638   81.8583              A34        S  \n",
      "305      1       112901   26.5500              B26        S  \n",
      "308      1        12749   93.5000              B69        S  \n",
      "314      0     PC 17760  135.6333              C32        C  \n",
      "316      0     PC 17569  146.5208              B78        C  \n",
      "327      0     PC 17585   79.2000              NaN        C  \n",
      "343      1     PC 17755  512.3292      B51 B53 B55        C  \n",
      "350      1     PC 17759   63.3583          D10 D12        C  \n",
      "355      0       113044   26.0000              E60        S  \n",
      "356      0        11769   51.4792             C101        S  \n",
      "368      1       112378   59.4000              NaN        C  \n",
      "372      0       112058    0.0000      B52 B54 B56        S  \n",
      "374      1        33638   81.8583              A34        S  \n",
      "375      0     PC 17608  262.3750              NaN        C  \n",
      "378      0          680   50.0000              C39        S  \n",
      "391      1     PC 17592   39.4000              D28        S  \n",
      "397      1        13567   79.2000              B41        C  \n",
      "404      0        17765   27.7208              D40        C  \n",
      "407      1       113503  211.5000              C80        C  \n"
     ]
    }
   ],
   "source": [
    "class1_old = df[(df['Pclass'] == 1) & (df['Age'] > 40)]\n",
    "print(class1_old)\n"
   ]
  },
  {
   "cell_type": "code",
   "execution_count": 25,
   "id": "f90979b7-784a-4395-873b-b961bfca3255",
   "metadata": {},
   "outputs": [
    {
     "name": "stdout",
     "output_type": "stream",
     "text": [
      "     PassengerId  Survived  Pclass  \\\n",
      "14           906         1       1   \n",
      "24           916         1       1   \n",
      "44           936         1       1   \n",
      "48           940         1       1   \n",
      "69           961         1       1   \n",
      "77           969         1       1   \n",
      "96           988         1       1   \n",
      "100          992         1       1   \n",
      "114         1006         1       1   \n",
      "179         1071         1       1   \n",
      "218         1110         1       1   \n",
      "224         1116         1       1   \n",
      "239         1131         1       1   \n",
      "240         1132         1       1   \n",
      "305         1197         1       1   \n",
      "314         1206         1       1   \n",
      "343         1235         1       1   \n",
      "350         1242         1       1   \n",
      "356         1248         1       1   \n",
      "368         1260         1       1   \n",
      "374         1266         1       1   \n",
      "375         1267         1       1   \n",
      "391         1283         1       1   \n",
      "397         1289         1       1   \n",
      "\n",
      "                                                  Name     Sex   Age  SibSp  \\\n",
      "14   Chaffee, Mrs. Herbert Fuller (Carrie Constance...  female  47.0      1   \n",
      "24     Ryerson, Mrs. Arthur Larned (Emily Maria Borie)  female  48.0      1   \n",
      "44    Kimball, Mrs. Edwin Nelson Jr (Gertrude Parsons)  female  45.0      1   \n",
      "48     Bucknell, Mrs. William Robert (Emma Eliza Ward)  female  60.0      0   \n",
      "69                 Fortune, Mrs. Mark (Mary McDougald)  female  60.0      1   \n",
      "77   Cornell, Mrs. Robert Clifford (Malvina Helen L...  female  55.0      2   \n",
      "96   Cavendish, Mrs. Tyrell William (Julia Florence...  female  76.0      1   \n",
      "100  Stengel, Mrs. Charles Emil Henry (Annie May Mo...  female  43.0      1   \n",
      "114             Straus, Mrs. Isidor (Rosalie Ida Blun)  female  63.0      1   \n",
      "179  Compton, Mrs. Alexander Taylor (Mary Eliza Ing...  female  64.0      0   \n",
      "218       Widener, Mrs. George Dunton (Eleanor Elkins)  female  50.0      1   \n",
      "224   Candee, Mrs. Edward (Helen Churchill Hungerford)  female  53.0      0   \n",
      "239        Douglas, Mrs. Walter Donald (Mahala Dutton)  female  48.0      1   \n",
      "240          Lindstrom, Mrs. Carl Johan (Sigrid Posse)  female  55.0      0   \n",
      "305  Crosby, Mrs. Edward Gifford (Catherine Elizabe...  female  64.0      1   \n",
      "314              White, Mrs. John Stuart (Ella Holmes)  female  55.0      0   \n",
      "343  Cardeza, Mrs. James Warburton Martinez (Charlo...  female  58.0      0   \n",
      "350       Greenfield, Mrs. Leo David (Blanche Strouse)  female  45.0      0   \n",
      "356     Brown, Mrs. John Murray (Caroline Lane Lamson)  female  59.0      2   \n",
      "368            Gibson, Mrs. Leonard (Pauline C Boeson)  female  45.0      0   \n",
      "374              Dodge, Mrs. Washington (Ruth Vidaver)  female  54.0      1   \n",
      "375                           Bowen, Miss. Grace Scott  female  45.0      0   \n",
      "391     Lines, Mrs. Ernest H (Elizabeth Lindsey James)  female  51.0      0   \n",
      "397  Frolicher-Stehli, Mrs. Maxmillian (Margaretha ...  female  48.0      1   \n",
      "\n",
      "     Parch       Ticket      Fare            Cabin Embarked  \n",
      "14       0  W.E.P. 5734   61.1750              E31        S  \n",
      "24       3     PC 17608  262.3750  B57 B59 B63 B66        C  \n",
      "44       0        11753   52.5542              D19        S  \n",
      "48       0        11813   76.2917              D15        C  \n",
      "69       4        19950  263.0000      C23 C25 C27        S  \n",
      "77       0        11770   25.7000             C101        S  \n",
      "96       0        19877   78.8500              C46        S  \n",
      "100      0        11778   55.4417             C116        C  \n",
      "114      0     PC 17483  221.7792          C55 C57        S  \n",
      "179      2     PC 17756   83.1583              E45        C  \n",
      "218      1       113503  211.5000              C80        C  \n",
      "224      0     PC 17606   27.4458              NaN        C  \n",
      "239      0     PC 17761  106.4250              C86        C  \n",
      "240      0       112377   27.7208              NaN        C  \n",
      "305      1       112901   26.5500              B26        S  \n",
      "314      0     PC 17760  135.6333              C32        C  \n",
      "343      1     PC 17755  512.3292      B51 B53 B55        C  \n",
      "350      1     PC 17759   63.3583          D10 D12        C  \n",
      "356      0        11769   51.4792             C101        S  \n",
      "368      1       112378   59.4000              NaN        C  \n",
      "374      1        33638   81.8583              A34        S  \n",
      "375      0     PC 17608  262.3750              NaN        C  \n",
      "391      1     PC 17592   39.4000              D28        S  \n",
      "397      1        13567   79.2000              B41        C  \n"
     ]
    }
   ],
   "source": [
    "class1_old_survived = class1_old[class1_old['Survived'] == 1]\n",
    "print(class1_old_survived)\n"
   ]
  },
  {
   "cell_type": "code",
   "execution_count": 26,
   "id": "3b3b51f1-7b79-43b4-92d3-252d5be690a8",
   "metadata": {},
   "outputs": [
    {
     "name": "stdout",
     "output_type": "stream",
     "text": [
      "                                     Name      Fare\n",
      "64            Ryerson, Master. John Borie  262.3750\n",
      "75                     Keeping, Mr. Edwin  211.5000\n",
      "81                     Straus, Mr. Isidor  221.7792\n",
      "142            Ryerson, Mr. Arthur Larned  262.3750\n",
      "196       Spedden, Master. Robert Douglas  134.5000\n",
      "202                Astor, Col. John Jacob  227.5250\n",
      "217              Wick, Mr. George Dennick  164.8667\n",
      "242          Spedden, Mr. Frederic Oakley  134.5000\n",
      "252              Clark, Mr. Walter Miller  136.7792\n",
      "306  Allison, Mr. Hudson Joshua Creighton  151.5500\n",
      "316         Spencer, Mr. William Augustus  146.5208\n",
      "407            Widener, Mr. George Dunton  211.5000\n"
     ]
    }
   ],
   "source": [
    "rich_males = df[(df['Sex'] == 'male') & (df['Fare'] > 100)]\n",
    "print(rich_males[['Name', 'Fare']])\n"
   ]
  },
  {
   "cell_type": "code",
   "execution_count": 27,
   "id": "46ddd414-a9bc-4a04-b593-5311bc75e584",
   "metadata": {},
   "outputs": [
    {
     "name": "stdout",
     "output_type": "stream",
     "text": [
      "     PassengerId  Survived  Pclass  \\\n",
      "15           907         1       2   \n",
      "51           943         0       2   \n",
      "54           946         0       2   \n",
      "110         1002         0       2   \n",
      "220         1112         1       2   \n",
      "264         1156         0       2   \n",
      "296         1188         1       2   \n",
      "301         1193         0       2   \n",
      "361         1253         1       2   \n",
      "369         1261         0       2   \n",
      "405         1297         0       2   \n",
      "\n",
      "                                              Name     Sex       Age  SibSp  \\\n",
      "15   del Carlo, Mrs. Sebastiano (Argenia Genovesi)  female  24.00000      1   \n",
      "51                              Pulbaum, Mr. Franz    male  27.00000      0   \n",
      "54               Mangiavacchi, Mr. Serafino Emilio    male  30.27259      0   \n",
      "110                       Stanton, Mr. Samuel Ward    male  41.00000      0   \n",
      "220                 Duran y More, Miss. Florentina  female  30.00000      1   \n",
      "264         Portaluppi, Mr. Emilio Ilario Giuseppe    male  30.00000      0   \n",
      "296                          Laroche, Miss. Louise  female   1.00000      1   \n",
      "301                            Malachard, Mr. Noel    male  30.27259      0   \n",
      "361        Mallet, Mrs. Albert (Antoinette Magnin)  female  24.00000      1   \n",
      "369                  Pallas y Castello, Mr. Emilio    male  29.00000      0   \n",
      "405   Nourney, Mr. Alfred (Baron von Drachstedt\")\"    male  20.00000      0   \n",
      "\n",
      "     Parch           Ticket     Fare Cabin Embarked  \n",
      "15       0    SC/PARIS 2167  27.7208   NaN        C  \n",
      "51       0    SC/PARIS 2168  15.0333   NaN        C  \n",
      "54       0      SC/A.3 2861  15.5792   NaN        C  \n",
      "110      0           237734  15.0458   NaN        C  \n",
      "220      0    SC/PARIS 2148  13.8583   NaN        C  \n",
      "264      0       C.A. 34644  12.7375   NaN        C  \n",
      "296      2    SC/Paris 2123  41.5792   NaN        C  \n",
      "301      0           237735  15.0458     D        C  \n",
      "361      1  S.C./PARIS 2079  37.0042   NaN        C  \n",
      "369      0    SC/PARIS 2147  13.8583   NaN        C  \n",
      "405      0    SC/PARIS 2166  13.8625   D38        C  \n"
     ]
    }
   ],
   "source": [
    "embarked_c_class2 = df[(df['Embarked'] == 'C') & (df['Pclass'] == 2)]\n",
    "print(embarked_c_class2)\n"
   ]
  },
  {
   "cell_type": "code",
   "execution_count": 28,
   "id": "e379aa3c-bee6-4589-8c88-60574ab9bbbf",
   "metadata": {},
   "outputs": [
    {
     "name": "stdout",
     "output_type": "stream",
     "text": [
      "     PassengerId  Survived  Pclass                                    Name  \\\n",
      "53           945         1       1              Fortune, Miss. Ethel Flora   \n",
      "55           947         0       3                    Rice, Master. Albert   \n",
      "140         1032         1       3             Goodwin, Miss. Jessie Allis   \n",
      "145         1037         0       3               Vander Planke, Mr. Julius   \n",
      "154         1046         0       3            Asplund, Master. Filip Oscar   \n",
      "188         1080         1       3                         Sage, Miss. Ada   \n",
      "214         1106         1       3  Andersson, Miss. Ida Augusta Margareta   \n",
      "360         1252         0       3             Sage, Master. William Henry   \n",
      "379         1271         0       3             Asplund, Master. Carl Edgar   \n",
      "389         1281         0       3             Palsson, Master. Paul Folke   \n",
      "394         1286         0       3                Kink-Heilmann, Mr. Anton   \n",
      "\n",
      "        Sex       Age  SibSp  Parch    Ticket      Fare        Cabin Embarked  \n",
      "53   female  28.00000      3      2     19950  263.0000  C23 C25 C27        S  \n",
      "55     male  10.00000      4      1    382652   29.1250          NaN        Q  \n",
      "140  female  10.00000      5      2   CA 2144   46.9000          NaN        S  \n",
      "145    male  31.00000      3      0    345763   18.0000          NaN        S  \n",
      "154    male  13.00000      4      2    347077   31.3875          NaN        S  \n",
      "188  female  30.27259      8      2  CA. 2343   69.5500          NaN        S  \n",
      "214  female  38.00000      4      2    347091    7.7750          NaN        S  \n",
      "360    male  14.50000      8      2  CA. 2343   69.5500          NaN        S  \n",
      "379    male   5.00000      4      2    347077   31.3875          NaN        S  \n",
      "389    male   6.00000      3      1    349909   21.0750          NaN        S  \n",
      "394    male  29.00000      3      1    315153   22.0250          NaN        S  \n"
     ]
    }
   ],
   "source": [
    "more_siblings = df[df['SibSp'] > 2]\n",
    "print(more_siblings)\n"
   ]
  },
  {
   "cell_type": "code",
   "execution_count": 29,
   "id": "f565bf76-8582-4170-ab2e-bd4bbd3ad3f4",
   "metadata": {},
   "outputs": [
    {
     "name": "stdout",
     "output_type": "stream",
     "text": [
      "     PassengerId  Survived  Pclass  \\\n",
      "0            892         0       3   \n",
      "2            894         0       2   \n",
      "3            895         0       3   \n",
      "5            897         0       3   \n",
      "10           902         0       3   \n",
      "..           ...       ...     ...   \n",
      "403         1295         0       1   \n",
      "405         1297         0       2   \n",
      "413         1305         0       3   \n",
      "415         1307         0       3   \n",
      "416         1308         0       3   \n",
      "\n",
      "                                             Name   Sex       Age  SibSp  \\\n",
      "0                                Kelly, Mr. James  male  34.50000      0   \n",
      "2                       Myles, Mr. Thomas Francis  male  62.00000      0   \n",
      "3                                Wirz, Mr. Albert  male  27.00000      0   \n",
      "5                      Svensson, Mr. Johan Cervin  male  14.00000      0   \n",
      "10                               Ilieff, Mr. Ylio  male  30.27259      0   \n",
      "..                                            ...   ...       ...    ...   \n",
      "403                        Carrau, Mr. Jose Pedro  male  17.00000      0   \n",
      "405  Nourney, Mr. Alfred (Baron von Drachstedt\")\"  male  20.00000      0   \n",
      "413                            Spector, Mr. Woolf  male  30.27259      0   \n",
      "415                  Saether, Mr. Simon Sivertsen  male  38.50000      0   \n",
      "416                           Ware, Mr. Frederick  male  30.27259      0   \n",
      "\n",
      "     Parch              Ticket     Fare Cabin Embarked  \n",
      "0        0              330911   7.8292   NaN        Q  \n",
      "2        0              240276   9.6875   NaN        Q  \n",
      "3        0              315154   8.6625   NaN        S  \n",
      "5        0                7538   9.2250   NaN        S  \n",
      "10       0              349220   7.8958   NaN        S  \n",
      "..     ...                 ...      ...   ...      ...  \n",
      "403      0              113059  47.1000   NaN        S  \n",
      "405      0       SC/PARIS 2166  13.8625   D38        C  \n",
      "413      0           A.5. 3236   8.0500   NaN        S  \n",
      "415      0  SOTON/O.Q. 3101262   7.2500   NaN        S  \n",
      "416      0              359309   8.0500   NaN        S  \n",
      "\n",
      "[185 rows x 12 columns]\n"
     ]
    }
   ],
   "source": [
    "no_family_died = df[(df['Survived'] == 0) & (df['SibSp'] == 0) & (df['Parch'] == 0)]\n",
    "print(no_family_died)\n"
   ]
  },
  {
   "cell_type": "code",
   "execution_count": 30,
   "id": "7ce80558-2cf4-41ea-99a7-5f3b4e8ae4f0",
   "metadata": {},
   "outputs": [
    {
     "name": "stdout",
     "output_type": "stream",
     "text": [
      "                                                  Name   Age\n",
      "96   Cavendish, Mrs. Tyrell William (Julia Florence...  76.0\n",
      "179  Compton, Mrs. Alexander Taylor (Mary Eliza Ing...  64.0\n",
      "305  Crosby, Mrs. Edward Gifford (Catherine Elizabe...  64.0\n",
      "114             Straus, Mrs. Isidor (Rosalie Ida Blun)  63.0\n",
      "69                 Fortune, Mrs. Mark (Mary McDougald)  60.0\n"
     ]
    }
   ],
   "source": [
    "oldest_survivors = df[df['Survived'] == 1].sort_values(by='Age', ascending=False).head(5)\n",
    "print(oldest_survivors[['Name', 'Age']])\n"
   ]
  },
  {
   "cell_type": "code",
   "execution_count": 31,
   "id": "df40b933-d01a-4aae-acfa-1ad7aff0894b",
   "metadata": {},
   "outputs": [
    {
     "name": "stdout",
     "output_type": "stream",
     "text": [
      "                                      Name  Fare\n",
      "266  Chisholm, Mr. Roderick Robert Crispin   0.0\n",
      "372                Ismay, Mr. Joseph Bruce   0.0\n"
     ]
    }
   ],
   "source": [
    "free_riders = df[df['Fare'] == 0]\n",
    "print(free_riders[['Name', 'Fare']])\n"
   ]
  },
  {
   "cell_type": "code",
   "execution_count": 33,
   "id": "b5853118-7dce-4bd0-8f1f-e4627e393436",
   "metadata": {},
   "outputs": [],
   "source": [
    "from sklearn.model_selection import train_test_split\n",
    "\n",
    "# Create a proper copy to avoid the warning\n",
    "X = df[['Pclass', 'Sex', 'Age', 'Fare']].copy()\n",
    "X['Sex'] = X['Sex'].map({'male': 1, 'female': 0})\n",
    "\n",
    "y = df['Survived']  # Target\n",
    "\n",
    "# Split the dataset\n",
    "X_train, X_test, y_train, y_test = train_test_split(\n",
    "    X, y, test_size=0.2, random_state=42\n",
    ")\n",
    "\n"
   ]
  },
  {
   "cell_type": "code",
   "execution_count": null,
   "id": "26e660ca-53b8-4acd-88e8-42b987d7171c",
   "metadata": {},
   "outputs": [],
   "source": []
  }
 ],
 "metadata": {
  "kernelspec": {
   "display_name": "Python 3 (ipykernel)",
   "language": "python",
   "name": "python3"
  },
  "language_info": {
   "codemirror_mode": {
    "name": "ipython",
    "version": 3
   },
   "file_extension": ".py",
   "mimetype": "text/x-python",
   "name": "python",
   "nbconvert_exporter": "python",
   "pygments_lexer": "ipython3",
   "version": "3.11.7"
  }
 },
 "nbformat": 4,
 "nbformat_minor": 5
}
