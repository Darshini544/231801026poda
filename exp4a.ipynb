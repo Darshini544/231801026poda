{
 "cells": [
  {
   "cell_type": "code",
   "execution_count": 1,
   "id": "dfd5c235",
   "metadata": {},
   "outputs": [],
   "source": [
    "import pandas as pd\n",
    "df = pd.read_csv('Reviews.csv')\n"
   ]
  },
  {
   "cell_type": "code",
   "execution_count": 2,
   "id": "5a022e99",
   "metadata": {},
   "outputs": [],
   "source": [
    "import nltk\n",
    "import string\n",
    "from sklearn.feature_extraction.text import TfidfVectorizer\n",
    "from sklearn.metrics.pairwise import cosine_similarity\n"
   ]
  },
  {
   "cell_type": "code",
   "execution_count": 3,
   "id": "1968a286",
   "metadata": {},
   "outputs": [
    {
     "name": "stderr",
     "output_type": "stream",
     "text": [
      "[nltk_data] Downloading package punkt to\n",
      "[nltk_data]     C:\\Users\\TCS\\AppData\\Roaming\\nltk_data...\n",
      "[nltk_data]   Unzipping tokenizers\\punkt.zip.\n",
      "[nltk_data] Downloading package stopwords to\n",
      "[nltk_data]     C:\\Users\\TCS\\AppData\\Roaming\\nltk_data...\n",
      "[nltk_data]   Unzipping corpora\\stopwords.zip.\n"
     ]
    },
    {
     "data": {
      "text/plain": [
       "True"
      ]
     },
     "execution_count": 3,
     "metadata": {},
     "output_type": "execute_result"
    }
   ],
   "source": [
    "nltk.download('punkt')\n",
    "nltk.download('stopwords')\n"
   ]
  },
  {
   "cell_type": "code",
   "execution_count": 4,
   "id": "60e8a27b",
   "metadata": {},
   "outputs": [],
   "source": [
    "# a. Select review text column\n",
    "reviews = df['Text']\n",
    "\n",
    "# b. Remove missing/null\n",
    "reviews = reviews.dropna()\n",
    "\n",
    "# c. Limit to 10,000 reviews for speed\n",
    "reviews = reviews[:10000]\n"
   ]
  },
  {
   "cell_type": "code",
   "execution_count": 5,
   "id": "bb7f66d9",
   "metadata": {},
   "outputs": [],
   "source": [
    "from nltk.corpus import stopwords\n",
    "stop_words = set(stopwords.words('english'))\n"
   ]
  },
  {
   "cell_type": "code",
   "execution_count": 6,
   "id": "e866e787",
   "metadata": {},
   "outputs": [],
   "source": [
    "from nltk.tokenize import word_tokenize\n",
    "\n",
    "def preprocess(text):\n",
    "    text = text.lower()  # a. Lowercase\n",
    "    text = text.translate(str.maketrans('', '', string.punctuation))  # b. Remove punctuation\n",
    "    tokens = word_tokenize(text)  # c. Tokenize\n",
    "    tokens = [word for word in tokens if word not in stop_words]  # d. Remove stopwords\n",
    "    return ' '.join(tokens)  # e. Join back\n"
   ]
  },
  {
   "cell_type": "code",
   "execution_count": 7,
   "id": "c6b40705",
   "metadata": {},
   "outputs": [],
   "source": [
    "cleaned_reviews = reviews.apply(preprocess)\n"
   ]
  },
  {
   "cell_type": "code",
   "execution_count": 8,
   "id": "afcb972f",
   "metadata": {},
   "outputs": [],
   "source": [
    "vectorizer = TfidfVectorizer()\n",
    "tfidf_matrix = vectorizer.fit_transform(cleaned_reviews)\n"
   ]
  },
  {
   "cell_type": "code",
   "execution_count": 9,
   "id": "05bd6239",
   "metadata": {},
   "outputs": [],
   "source": [
    "query = \"great product with fast shipping\"\n",
    "cleaned_query = preprocess(query)\n"
   ]
  },
  {
   "cell_type": "code",
   "execution_count": 10,
   "id": "8889d95d",
   "metadata": {},
   "outputs": [],
   "source": [
    "query_vec = vectorizer.transform([cleaned_query])\n"
   ]
  },
  {
   "cell_type": "code",
   "execution_count": 11,
   "id": "aedfc1fc",
   "metadata": {},
   "outputs": [],
   "source": [
    "similarity = cosine_similarity(query_vec, tfidf_matrix)\n"
   ]
  },
  {
   "cell_type": "code",
   "execution_count": 12,
   "id": "4b9dc570",
   "metadata": {},
   "outputs": [
    {
     "name": "stdout",
     "output_type": "stream",
     "text": [
      "Original Review:\n",
      " Enjoyed the product and they also provided very fast shipping.  I'm about out and need to order more.\n",
      "Cleaned Review:\n",
      " enjoyed product also provided fast shipping im need order\n",
      "============================================================\n",
      "Original Review:\n",
      " The tea is good and fresh. We enjoy it. The shipping is fast and cost is reasonable.<br />I recommend this product.\n",
      "Cleaned Review:\n",
      " tea good fresh enjoy shipping fast cost reasonablebr recommend product\n",
      "============================================================\n",
      "Original Review:\n",
      " My daughter lives in Hawaii and sent me some great coffee from there. I have a Keurig and  was not sure how to use the new coffee. I got these fast fast and now am using my Hawaiian coffee. Great product.\n",
      "Cleaned Review:\n",
      " daughter lives hawaii sent great coffee keurig sure use new coffee got fast fast using hawaiian coffee great product\n",
      "============================================================\n",
      "Original Review:\n",
      " The energy drink is a great product. The shipping price is crazy tho. I paid more for the shipping then both products together, so not a great deal.\n",
      "Cleaned Review:\n",
      " energy drink great product shipping price crazy tho paid shipping products together great deal\n",
      "============================================================\n",
      "Original Review:\n",
      " Fast shipping, items were packaged nicely and are as described. Also, very tasty :) Highly recommend this product to anyone looking to buy.\n",
      "Cleaned Review:\n",
      " fast shipping items packaged nicely described also tasty highly recommend product anyone looking buy\n",
      "============================================================\n"
     ]
    }
   ],
   "source": [
    "top_k = 5\n",
    "top_indices = similarity[0].argsort()[-top_k:][::-1]\n",
    "\n",
    "for idx in top_indices:\n",
    "    print(\"Original Review:\\n\", reviews.iloc[idx])\n",
    "    print(\"Cleaned Review:\\n\", cleaned_reviews.iloc[idx])\n",
    "    print(\"=\"*60)\n"
   ]
  },
  {
   "cell_type": "code",
   "execution_count": 13,
   "id": "419e11f6",
   "metadata": {},
   "outputs": [],
   "source": [
    "query = \"great product with fast shipping\"\n",
    "query = \"disappointed\"\n"
   ]
  },
  {
   "cell_type": "code",
   "execution_count": null,
   "id": "93c172b3",
   "metadata": {},
   "outputs": [],
   "source": []
  }
 ],
 "metadata": {
  "kernelspec": {
   "display_name": "Python 3 (ipykernel)",
   "language": "python",
   "name": "python3"
  },
  "language_info": {
   "codemirror_mode": {
    "name": "ipython",
    "version": 3
   },
   "file_extension": ".py",
   "mimetype": "text/x-python",
   "name": "python",
   "nbconvert_exporter": "python",
   "pygments_lexer": "ipython3",
   "version": "3.9.12"
  }
 },
 "nbformat": 4,
 "nbformat_minor": 5
}
